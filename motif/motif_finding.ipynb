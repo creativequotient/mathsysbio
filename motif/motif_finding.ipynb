{
 "cells": [
  {
   "cell_type": "code",
   "execution_count": 1,
   "metadata": {},
   "outputs": [],
   "source": [
    "import os\n",
    "os.chdir('src')"
   ]
  },
  {
   "cell_type": "code",
   "execution_count": 2,
   "metadata": {},
   "outputs": [],
   "source": [
    "from ecoli_ts_network import *\n",
    "import motiffinder as mf\n",
    "import networkx as nx\n",
    "import pprint\n",
    "import matplotlib.pyplot as plt"
   ]
  },
  {
   "cell_type": "code",
   "execution_count": 3,
   "metadata": {},
   "outputs": [],
   "source": [
    "def draw_graph(graph, **kwargs):\n",
    "    axes = plt.axes((0,0,1.2,1.2))\n",
    "    nx.draw(graph,with_labels=True,edge_color='gray',ax=axes,**kwargs)\n",
    "\n",
    "def draw_subgraph(graph,nodes,**kwargs):\n",
    "    draw_graph(graph.subgraph(nodes), **kwargs)"
   ]
  },
  {
   "cell_type": "code",
   "execution_count": 4,
   "metadata": {},
   "outputs": [
    {
     "name": "stdout",
     "output_type": "stream",
     "text": [
      "Graph Stats (nodes, edges)\n",
      "full graph 2290 5661\n",
      "high evidence edges only 1797 3174\n"
     ]
    }
   ],
   "source": [
    "full_graph = open_graph()\n",
    "high_ev_graph = high_evidence_graph(full_graph)\n",
    "\n",
    "print('Graph Stats (nodes, edges)')\n",
    "print('full graph', len(full_graph), full_graph.size())\n",
    "print('high evidence edges only', len(high_ev_graph), high_ev_graph.size())"
   ]
  },
  {
   "cell_type": "markdown",
   "metadata": {},
   "source": [
    "## SIMs"
   ]
  },
  {
   "cell_type": "code",
   "execution_count": 5,
   "metadata": {},
   "outputs": [],
   "source": [
    "def sims_analysis(graph):\n",
    "    sims = mf.find_SIMS(graph,get_transcription_factors(graph))\n",
    "    print('Raw number of SIMs', len(sims))\n",
    "    sims = sorted(filter(lambda x : len(x) > 2, sims), key = lambda x : len(x))\n",
    "    print('SIMs with at least 2 genes', len(sims))\n",
    "    \n",
    "    print('Distribution of SIM size (number of genes)')\n",
    "    size_count = {}\n",
    "    for s in sims:\n",
    "        size = len(s) - 1\n",
    "        if size not in size_count:\n",
    "            size_count[size] = 0\n",
    "        size_count[size] += 1\n",
    "    print(size_count)\n",
    "    plt.bar(size_count.keys(),size_count.values())\n",
    "    \n",
    "    return sims"
   ]
  },
  {
   "cell_type": "code",
   "execution_count": 6,
   "metadata": {},
   "outputs": [
    {
     "name": "stdout",
     "output_type": "stream",
     "text": [
      "Full Graph\n",
      "Raw number of SIMs 211\n",
      "SIMs with at least 2 genes 67\n",
      "Distribution of SIM size (number of genes)\n",
      "{2: 14, 3: 13, 4: 4, 5: 6, 6: 4, 7: 3, 8: 3, 9: 3, 10: 3, 11: 1, 12: 1, 15: 1, 20: 1, 26: 1, 28: 1, 29: 1, 33: 1, 42: 1, 53: 1, 68: 1, 101: 1, 105: 1, 117: 1}\n"
     ]
    },
    {
     "data": {
      "image/png": "[encoded data removed]",
      "text/plain": [
       "<Figure size 432x288 with 1 Axes>"
      ]
     },
     "metadata": {
      "needs_background": "light"
     },
     "output_type": "display_data"
    }
   ],
   "source": [
    "print('Full Graph')\n",
    "full_graph_sims = sims_analysis(full_graph)"
   ]
  },
  {
   "cell_type": "code",
   "execution_count": 7,
   "metadata": {},
   "outputs": [
    {
     "name": "stdout",
     "output_type": "stream",
     "text": [
      "High Evidence Only\n",
      "Raw number of SIMs 149\n",
      "SIMs with at least 2 genes 73\n",
      "Distribution of SIM size (number of genes)\n",
      "{2: 17, 3: 14, 4: 8, 5: 3, 6: 10, 7: 2, 8: 2, 9: 2, 10: 2, 11: 2, 12: 1, 15: 1, 19: 1, 20: 1, 39: 1, 42: 1, 74: 2, 118: 1, 122: 1, 153: 1}\n"
     ]
    },
    {
     "data": {
      "image/png": "[encoded data removed]",
      "text/plain": [
       "<Figure size 432x288 with 1 Axes>"
      ]
     },
     "metadata": {
      "needs_background": "light"
     },
     "output_type": "display_data"
    }
   ],
   "source": [
    "print('High Evidence Only')\n",
    "high_ev_sims = sims_analysis(high_ev_graph)"
   ]
  },
  {
   "cell_type": "code",
   "execution_count": null,
   "metadata": {},
   "outputs": [],
   "source": []
  },
  {
   "cell_type": "markdown",
   "metadata": {},
   "source": [
    "## DORs"
   ]
  },
  {
   "cell_type": "code",
   "execution_count": 8,
   "metadata": {},
   "outputs": [],
   "source": [
    "def dors_analysis(graph):\n",
    "    dors = mf.find_DORs(graph)\n",
    "    print('Number of (complete) DORs', len(dors))\n",
    "    return dors\n",
    "import itertools"
   ]
  },
  {
   "cell_type": "code",
   "execution_count": 9,
   "metadata": {},
   "outputs": [
    {
     "name": "stdout",
     "output_type": "stream",
     "text": [
      "Full graph\n",
      "Number of (complete) DORs 1\n"
     ]
    }
   ],
   "source": [
    "print('Full graph')\n",
    "full_graph_dors = dors_analysis(full_graph)"
   ]
  },
  {
   "cell_type": "code",
   "execution_count": 10,
   "metadata": {},
   "outputs": [
    {
     "name": "stdout",
     "output_type": "stream",
     "text": [
      "[(('arcA', 'crp'), ('lacI', 'glpR', 'mhpR'))]\n"
     ]
    },
    {
     "name": "stderr",
     "output_type": "stream",
     "text": [
      "/usr/local/lib/python3.7/dist-packages/networkx/drawing/nx_pylab.py:579: MatplotlibDeprecationWarning: \n",
      "The iterable function was deprecated in Matplotlib 3.1 and will be removed in 3.3. Use np.iterable instead.\n",
      "  if not cb.iterable(width):\n",
      "/usr/local/lib/python3.7/dist-packages/networkx/drawing/nx_pylab.py:676: MatplotlibDeprecationWarning: \n",
      "The iterable function was deprecated in Matplotlib 3.1 and will be removed in 3.3. Use np.iterable instead.\n",
      "  if cb.iterable(node_size):  # many node sizes\n"
     ]
    },
    {
     "data": {
      "image/png": "[encoded data removed]",
      "text/plain": [
       "<Figure size 432x288 with 1 Axes>"
      ]
     },
     "metadata": {},
     "output_type": "display_data"
    }
   ],
   "source": [
    "print(full_graph_dors)\n",
    "draw_subgraph(full_graph,itertools.chain(*full_graph_dors[0]))"
   ]
  },
  {
   "cell_type": "code",
   "execution_count": 11,
   "metadata": {},
   "outputs": [
    {
     "name": "stdout",
     "output_type": "stream",
     "text": [
      "High evidence only\n",
      "Number of (complete) DORs 1\n"
     ]
    }
   ],
   "source": [
    "print('High evidence only')\n",
    "high_ev_dors = dors_analysis(high_ev_graph)"
   ]
  },
  {
   "cell_type": "code",
   "execution_count": 12,
   "metadata": {},
   "outputs": [
    {
     "name": "stdout",
     "output_type": "stream",
     "text": [
      "[(('arcA', 'crp'), ('glpR', 'cspA'))]\n"
     ]
    },
    {
     "data": {
      "image/png": "[encoded data removed]",
      "text/plain": [
       "<Figure size 432x288 with 1 Axes>"
      ]
     },
     "metadata": {},
     "output_type": "display_data"
    }
   ],
   "source": [
    "print(high_ev_dors)\n",
    "draw_subgraph(high_ev_graph,itertools.chain(*high_ev_dors[0]))"
   ]
  },
  {
   "cell_type": "code",
   "execution_count": null,
   "metadata": {},
   "outputs": [],
   "source": []
  }
 ],
 "metadata": {
  "kernelspec": {
   "display_name": "Python 3",
   "language": "python",
   "name": "python3"
  },
  "language_info": {
   "codemirror_mode": {
    "name": "ipython",
    "version": 3
   },
   "file_extension": ".py",
   "mimetype": "text/x-python",
   "name": "python",
   "nbconvert_exporter": "python",
   "pygments_lexer": "ipython3",
   "version": "3.7.3"
  }
 },
 "nbformat": 4,
 "nbformat_minor": 4
}
